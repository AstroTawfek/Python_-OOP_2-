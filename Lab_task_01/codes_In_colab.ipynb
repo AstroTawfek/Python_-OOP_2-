{
  "cells": [
    {
      "cell_type": "code",
      "execution_count": 1,
      "metadata": {
        "colab": {
          "base_uri": "https://localhost:8080/"
        },
        "id": "WoOVNR-PVWVr",
        "outputId": "84f1912e-272f-4517-f630-e2636ec45ddc"
      },
      "outputs": [
        {
          "name": "stdout",
          "output_type": "stream",
          "text": [
            "Hello World! I Don't Give a Bug\n"
          ]
        }
      ],
      "source": [
        "#simple print\n",
        "print(\"Hello World! I Don't Give a Bug\")"
      ]
    },
    {
      "cell_type": "code",
      "execution_count": 2,
      "metadata": {
        "colab": {
          "base_uri": "https://localhost:8080/"
        },
        "id": "IoCPuk7vbhP4",
        "outputId": "2c2e6b5a-bb11-4bfa-edee-f8cd861362cb"
      },
      "outputs": [
        {
          "name": "stdout",
          "output_type": "stream",
          "text": [
            "Tawfek\n"
          ]
        }
      ],
      "source": [
        "# sample comment\n",
        "# This is Python Comment\n",
        "name = \"Tawfek\"\n",
        "print(name)"
      ]
    },
    {
      "cell_type": "code",
      "execution_count": 39,
      "metadata": {
        "colab": {
          "base_uri": "https://localhost:8080/"
        },
        "id": "CpM4w9QSbwCQ",
        "outputId": "66005ba8-aff0-4a93-b641-8fa1058564fe"
      },
      "outputs": [
        {
          "name": "stdout",
          "output_type": "stream",
          "text": [
            "22\n",
            "0.0\n",
            "Tawfek\n"
          ]
        }
      ],
      "source": [
        "# An integer assignment\n",
        "age = 22\n",
        "# A floating point\n",
        "salary = 0.000000\n",
        "# A string\n",
        "name = \"Tawfek\"\n",
        "\n",
        "print(age)\n",
        "print(salary)\n",
        "print(name)"
      ]
    },
    {
      "cell_type": "code",
      "execution_count": 40,
      "metadata": {
        "id": "iJCdgOd-czE5"
      },
      "outputs": [],
      "source": [
        "x = \"Hello World\" # string\n",
        "x = 50  # integer\n",
        "x = 60.5  # float\n",
        "x = 3j  # complex\n",
        "x = [\"geeks\", \"for\", \"geeks\"]  # list\n",
        "x = (\"geeks\", \"for\", \"geeks\")  # tuple\n",
        "x = {\"name\": \"Suraj\", \"age\": 24} # dict\n",
        "x = {\"geeks\", \"for\", \"geeks\"} # set\n",
        "x = True  # bool\n",
        "x = b\"Geeks\" # binary"
      ]
    },
    {
      "cell_type": "code",
      "execution_count": 5,
      "metadata": {
        "colab": {
          "base_uri": "https://localhost:8080/"
        },
        "id": "eAva3ajrdPDi",
        "outputId": "654c8d84-6599-4618-a70b-2a2ed483fba0"
      },
      "outputs": [
        {
          "name": "stdout",
          "output_type": "stream",
          "text": [
            "sum is 10\n",
            "Display 'Hi' in quotes\n",
            "Display \"Hi\" in quotes\n",
            "Display 'Hi' and \"Bye\" in quotes\n"
          ]
        }
      ],
      "source": [
        "#Printing Expression with Escape Sequences\n",
        "print(\"\"\"sum is\"\"\",7+3)\n",
        "print('Display \\'Hi\\' in quotes') #\\'\n",
        "print(\"Display \\\"Hi\\\" in quotes\") #\\\"\"\n",
        "print('''Display 'Hi' and \"Bye\" in quotes''')"
      ]
    },
    {
      "cell_type": "code",
      "execution_count": 41,
      "metadata": {
        "colab": {
          "base_uri": "https://localhost:8080/"
        },
        "id": "FI3mAliydexF",
        "outputId": "8b325573-36ed-4b7a-87b3-1362a2f4689d"
      },
      "outputs": [
        {
          "name": "stdout",
          "output_type": "stream",
          "text": [
            "What's your name: Tawfek\n",
            "Tawfek\n",
            "Enter first number: 19\n",
            "Enter second number: 27\n",
            "1927\n"
          ]
        }
      ],
      "source": [
        "#Getting Input from the User\n",
        "name = input(\"What's your name: \")\n",
        "print(name)\n",
        "value1 = input('Enter first number: ')  # I will put 19\n",
        "value2 = input('Enter second number: ') # I will put 27\n",
        "add = value1 + value2\n",
        "print(add)    # print  1927 as it take input as character"
      ]
    },
    {
      "cell_type": "code",
      "execution_count": 7,
      "metadata": {
        "colab": {
          "base_uri": "https://localhost:8080/"
        },
        "id": "5KrpeV_Qdpfb",
        "outputId": "9b699d3a-ee4c-4f2f-b7dd-f6638f14e768"
      },
      "outputs": [
        {
          "name": "stdout",
          "output_type": "stream",
          "text": [
            "9 5\n",
            "9 5\n",
            "<class 'str'>\n"
          ]
        }
      ],
      "source": [
        "#Multiple Input from the User\n",
        "a , b = input().split()\n",
        "print (a, b)\n",
        "print(type(a))"
      ]
    },
    {
      "cell_type": "code",
      "execution_count": 8,
      "metadata": {
        "colab": {
          "base_uri": "https://localhost:8080/"
        },
        "id": "EIwU0iFad6i5",
        "outputId": "3e0a8797-e345-4a68-c16a-0819766b0ea6"
      },
      "outputs": [
        {
          "name": "stdout",
          "output_type": "stream",
          "text": [
            "<class 'int'>\n",
            "<class 'float'>\n",
            "<class 'str'>\n"
          ]
        }
      ],
      "source": [
        "#Objects and Dynamic Typing\n",
        "print(type(7))\n",
        "print(type(1.1))\n",
        "print(type(\"cat\"))"
      ]
    },
    {
      "cell_type": "code",
      "execution_count": 9,
      "metadata": {
        "colab": {
          "base_uri": "https://localhost:8080/"
        },
        "id": "DQCnASoSeCrq",
        "outputId": "dad1ed4b-5617-46d9-b68b-e428c0f53b0c"
      },
      "outputs": [
        {
          "name": "stdout",
          "output_type": "stream",
          "text": [
            "13\n",
            "5\n",
            "36\n",
            "2.25\n",
            "2\n",
            "1\n",
            "6561\n"
          ]
        }
      ],
      "source": [
        "#Arithmetic Operators\n",
        "a = 9\n",
        "b = 4\n",
        "add = a + b\n",
        "sub = a - b\n",
        "mul = a * b\n",
        "div = a / b\n",
        "integer_division = a//b\n",
        "mod = a % b\n",
        "exponential = a ** b\n",
        "print(add)\n",
        "print(sub)\n",
        "print(mul)\n",
        "print(div)\n",
        "print(integer_division)\n",
        "print(mod)\n",
        "print(exponential)"
      ]
    },
    {
      "cell_type": "code",
      "execution_count": 10,
      "metadata": {
        "colab": {
          "base_uri": "https://localhost:8080/"
        },
        "id": "cunx71fceUYi",
        "outputId": "b975785c-0a33-4de0-ef6e-1603cb069164"
      },
      "outputs": [
        {
          "name": "stdout",
          "output_type": "stream",
          "text": [
            "False\n",
            "True\n",
            "False\n"
          ]
        }
      ],
      "source": [
        "# logical operators\n",
        "a = True\n",
        "b = False\n",
        "print(a and b) # print False\n",
        "print(a or b)  # print True\n",
        "print(not a)   # print False as a is True"
      ]
    },
    {
      "cell_type": "code",
      "execution_count": 11,
      "metadata": {
        "colab": {
          "base_uri": "https://localhost:8080/"
        },
        "id": "OMbaSMrpedCg",
        "outputId": "7741277f-92e9-4a1a-c2df-8584e860efde"
      },
      "outputs": [
        {
          "name": "stdout",
          "output_type": "stream",
          "text": [
            "0\n",
            "14\n",
            "-11\n",
            "14\n",
            "2\n",
            "40\n"
          ]
        }
      ],
      "source": [
        "#Bitwise Operators\n",
        "a = 10\n",
        "b = 4\n",
        "print(a & b)\n",
        "print(a | b)\n",
        "print(~a)\n",
        "print(a ^ b)\n",
        "print(a >> 2)\n",
        "print(a << 2)"
      ]
    },
    {
      "cell_type": "code",
      "execution_count": 12,
      "metadata": {
        "colab": {
          "base_uri": "https://localhost:8080/"
        },
        "id": "ppNyjP8AeiOB",
        "outputId": "4b79c470-bcf4-4ffb-dc33-140bf194eac0"
      },
      "outputs": [
        {
          "name": "stdout",
          "output_type": "stream",
          "text": [
            "10\n",
            "20\n",
            "10\n",
            "100\n",
            "102400\n"
          ]
        }
      ],
      "source": [
        "#Assignment Operators\n",
        "a = 10\n",
        "b = a\n",
        "print(b)\n",
        "b += a\n",
        "print(b)\n",
        "b -= a\n",
        "print(b)\n",
        "b *= a\n",
        "print(b)\n",
        "b <<= a\n",
        "print(b)"
      ]
    },
    {
      "cell_type": "code",
      "execution_count": 13,
      "metadata": {
        "colab": {
          "base_uri": "https://localhost:8080/"
        },
        "id": "r7kI6gY5evQN",
        "outputId": "ebbfefea-f360-4b51-ed54-5635986a6c9a"
      },
      "outputs": [
        {
          "name": "stdout",
          "output_type": "stream",
          "text": [
            "i is greater than 15\n",
            "i'm in else Block\n",
            "i'm not in if and not in else Block\n"
          ]
        }
      ],
      "source": [
        "#Python IF-Else\n",
        "i = 20\n",
        "if (i < 15):\n",
        "    print(\"i is smaller than 15\")\n",
        "    print(\"i'm in if Block\")\n",
        "else:\n",
        "    print(\"i is greater than 15\")\n",
        "    print(\"i'm in else Block\")\n",
        "print(\"i'm not in if and not in else Block\")"
      ]
    },
    {
      "cell_type": "code",
      "execution_count": 14,
      "metadata": {
        "colab": {
          "base_uri": "https://localhost:8080/"
        },
        "id": "I5LgwYDEe-6l",
        "outputId": "141652df-62b0-4eec-a31b-c888be7906d5"
      },
      "outputs": [
        {
          "name": "stdout",
          "output_type": "stream",
          "text": [
            "C\n"
          ]
        }
      ],
      "source": [
        "#Python if-elif-else ladder\n",
        "grade = 77\n",
        "if grade >= 90:\n",
        "    print('A')\n",
        "elif grade >= 80:\n",
        "    print('B')\n",
        "elif grade >= 70:\n",
        "    print('C')\n",
        "elif grade >= 60:\n",
        "    print('D')\n",
        "else:\n",
        "    print('F')"
      ]
    },
    {
      "cell_type": "code",
      "execution_count": 15,
      "metadata": {
        "colab": {
          "base_uri": "https://localhost:8080/"
        },
        "id": "UCEpLHbFfZ4J",
        "outputId": "7e732dc7-f3f8-4741-9874-1587101b67e8"
      },
      "outputs": [
        {
          "name": "stdout",
          "output_type": "stream",
          "text": [
            "0\n",
            "2\n",
            "4\n",
            "6\n",
            "8\n",
            "Hello Tawfek\n",
            "Hello Tawfek\n",
            "Hello Tawfek\n"
          ]
        }
      ],
      "source": [
        "#Python For Loop\n",
        "for i in range(0, 10, 2):\n",
        "    print(i)\n",
        "\n",
        "#Python While Loop\n",
        "count = 0\n",
        "while (count < 3):\n",
        "    count = count + 1\n",
        "    print(\"Hello Tawfek\")"
      ]
    },
    {
      "cell_type": "code",
      "execution_count": 21,
      "metadata": {
        "colab": {
          "base_uri": "https://localhost:8080/"
        },
        "id": "cIdtNm4cfoND",
        "outputId": "d6c8ae75-b4c9-40f0-e1ff-5f7724ace196"
      },
      "outputs": [
        {
          "name": "stdout",
          "output_type": "stream",
          "text": [
            "81\n",
            "P  r  o  g  r  a  m  m  i  n  g  \n",
            "25\n",
            "45\n",
            "5 6 7 8 9 0 2 4 6 8 10 8 6 4 2 \n",
            "2550\n"
          ]
        }
      ],
      "source": [
        "#While Statement\n",
        "product = 3\n",
        "while product <= 50 :\n",
        "    product*=3\n",
        "print(product)\n",
        "\n",
        "#For Statements\n",
        "for character in 'Programming':\n",
        "    print(character, end='  ')\n",
        "print()\n",
        "#Iterables , Lists and Iterators\n",
        "total = 0\n",
        "for number in [2, -3, 0, 17, 9]:\n",
        "    total += number\n",
        "print(total)\n",
        "\n",
        "#Built-In range Function\n",
        "total=0\n",
        "for number in range(10):\n",
        "    total += number\n",
        "print(total)\n",
        "\n",
        "#Built-In Function range: A Deeper Look\n",
        "for number in range(5, 10):\n",
        "    print(number , end=' ')\n",
        "for number in range(0, 10, 2):\n",
        "    print(number,end=' ')\n",
        "for number in range(10, 0, -2):\n",
        "    print(number,end=' ')\n",
        "print()\n",
        "total=0\n",
        "for number in range(2, 101, 2):\n",
        "    total += number\n",
        "print(total)"
      ]
    },
    {
      "cell_type": "code",
      "execution_count": 23,
      "metadata": {
        "colab": {
          "base_uri": "https://localhost:8080/"
        },
        "id": "2-uRuAu4gvLR",
        "outputId": "5de75e92-3c6e-487a-cf8a-c17313dc27da"
      },
      "outputs": [
        {
          "name": "stdout",
          "output_type": "stream",
          "text": [
            "15\n"
          ]
        }
      ],
      "source": [
        "#Augmented Assignments\n",
        "total=0\n",
        "for number in [1, 2, 3, 4, 5]:\n",
        "    total = total + number\n",
        "print(total)"
      ]
    },
    {
      "cell_type": "code",
      "execution_count": 24,
      "metadata": {
        "colab": {
          "base_uri": "https://localhost:8080/"
        },
        "id": "HzTSFDFAhBtZ",
        "outputId": "842b86ba-98dd-4efb-ecac-36dacc79d10b"
      },
      "outputs": [
        {
          "name": "stdout",
          "output_type": "stream",
          "text": [
            "0 1 2 3 4 5 6 7 8 9 0 1 2 3 4 6 7 8 9 "
          ]
        }
      ],
      "source": [
        "#Break and continue Statements\n",
        "for number in range(15):\n",
        "    if number == 10:\n",
        "        break\n",
        "    print(number,end=' ')\n",
        "for number in range(10):\n",
        "    if number == 5:\n",
        "        continue\n",
        "    print(number,end=' ')"
      ]
    },
    {
      "cell_type": "code",
      "execution_count": 25,
      "metadata": {
        "colab": {
          "base_uri": "https://localhost:8080/"
        },
        "id": "S7UxEUZwhqnG",
        "outputId": "345d5dd1-ff17-49f7-b9e0-5d076b6a1963"
      },
      "outputs": [
        {
          "name": "stdout",
          "output_type": "stream",
          "text": [
            "Class average is 81.70\n"
          ]
        }
      ],
      "source": [
        "#Sequence-Controlled Repetition\n",
        "total = 0 # sum of grades\n",
        "grade_counter = 0\n",
        "grades = [98, 76, 71, 87, 83, 90, 57, 79, 82, 94] # list of 10 grades\n",
        "for grade in grades:\n",
        "    total += grade # add current grade to the running total\n",
        "    grade_counter += 1 # indicate that one more grade was\n",
        "average = total / grade_counter\n",
        "print(f'Class average is {average:.2f}')"
      ]
    },
    {
      "cell_type": "code",
      "execution_count": 27,
      "metadata": {
        "colab": {
          "base_uri": "https://localhost:8080/"
        },
        "id": "Ka3qcbgghzk_",
        "outputId": "b354ac36-a230-45e3-8cba-d33b06f6126b"
      },
      "outputs": [
        {
          "name": "stdout",
          "output_type": "stream",
          "text": [
            "Hello, my name is Tawfek and I am 22 years old\n"
          ]
        }
      ],
      "source": [
        "#Formatted Strings\n",
        "name = 'Tawfek'\n",
        "age = 22\n",
        "print(f'Hello, my name is {name} and I am {age} years old')"
      ]
    },
    {
      "cell_type": "code",
      "execution_count": 36,
      "metadata": {
        "colab": {
          "base_uri": "https://localhost:8080/"
        },
        "id": "WIkCOOcnjGbg",
        "outputId": "61c35636-e52d-4a3e-8128-6118ff170d4c"
      },
      "outputs": [
        {
          "name": "stdout",
          "output_type": "stream",
          "text": [
            "Enter grade, -1 to end: 90\n",
            "Enter grade, -1 to end: 80\n",
            "Enter grade, -1 to end: 90\n",
            "Enter grade, -1 to end: -1\n",
            "Class average is 86.33\n"
          ]
        }
      ],
      "source": [
        "#Implementing Sentinel-Controlled Iteration\n",
        "\"\"\"Class average program with sentinel-controlled iteration.\"\"\"\n",
        "total = 0\n",
        "grade_counter = 0  # number of grades entered\n",
        "grade=99\n",
        "while grade != -1:\n",
        "    grade = int(input('Enter grade, -1 to end: '))  # get one grade\n",
        "    total += grade\n",
        "    grade_counter += 1\n",
        "if grade_counter != 0:\n",
        "    average = total / (grade_counter - 1)\n",
        "    print(f'Class average is {average:.2f}')\n",
        "else:\n",
        "    print('No grades were entered')"
      ]
    },
    {
      "cell_type": "code",
      "execution_count": 37,
      "metadata": {
        "colab": {
          "base_uri": "https://localhost:8080/"
        },
        "id": "qOUHl0NajoFV",
        "outputId": "ff0012d7-2440-4e4f-fd18-cde0f0df05aa"
      },
      "outputs": [
        {
          "name": "stdout",
          "output_type": "stream",
          "text": [
            "Enter result (1=pass, 2=fail): 1\n",
            "Enter result (1=pass, 2=fail): 1\n",
            "Enter result (1=pass, 2=fail): 1\n",
            "Enter result (1=pass, 2=fail): 2\n",
            "Enter result (1=pass, 2=fail): 1\n",
            "Enter result (1=pass, 2=fail): 1\n",
            "Enter result (1=pass, 2=fail): 2\n",
            "Enter result (1=pass, 2=fail): 1\n",
            "Enter result (1=pass, 2=fail): 2\n",
            "Enter result (1=pass, 2=fail): 1\n",
            "Passed: 7\n",
            "Failed: 3\n"
          ]
        }
      ],
      "source": [
        "#Implementing the Algorithm using Nested Control Statements\n",
        "\"\"\"Using nested control statements to analyze examination results.\"\"\"\n",
        "passes = 0  # number of passes\n",
        "failures = 0  # number of failures\n",
        "for student in range(10):\n",
        "    result = int(input('Enter result (1=pass, 2=fail): '))\n",
        "    if result == 1:\n",
        "        passes += 1\n",
        "    else:\n",
        "        failures += 1\n",
        "print('Passed:', passes)\n",
        "print('Failed:', failures)\n",
        "if passes > 8:\n",
        "    print('Bonus to instructor')"
      ]
    },
    {
      "cell_type": "code",
      "execution_count": 38,
      "metadata": {
        "colab": {
          "base_uri": "https://localhost:8080/"
        },
        "id": "tjmjuAJZj_U0",
        "outputId": "eeafbcc2-137b-414f-8a2d-a3e05e6ef9fd"
      },
      "outputs": [
        {
          "name": "stdout",
          "output_type": "stream",
          "text": [
            "even\n",
            "odd\n"
          ]
        }
      ],
      "source": [
        "#Python Functions\n",
        "def evenOdd(x):\n",
        "    if (x % 2 == 0):\n",
        "        print(\"even\")\n",
        "    else:\n",
        "        print(\"odd\")\n",
        "# Driver code to call the function\n",
        "evenOdd(2)\n",
        "evenOdd(3)"
      ]
    }
  ],
  "metadata": {
    "colab": {
      "provenance": [],
      "toc_visible": true
    },
    "kernelspec": {
      "display_name": "Python 3",
      "name": "python3"
    },
    "language_info": {
      "name": "python"
    }
  },
  "nbformat": 4,
  "nbformat_minor": 0
}
